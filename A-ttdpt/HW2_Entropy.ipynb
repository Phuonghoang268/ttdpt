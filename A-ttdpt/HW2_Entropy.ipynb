{
 "cells": [
  {
   "cell_type": "markdown",
   "id": "449926d2-a0d6-462f-9092-3e010343cc7f",
   "metadata": {
    "deletable": false,
    "editable": false,
    "nbgrader": {
     "cell_type": "markdown",
     "checksum": "ae5c3db1c707f46c5f9e5758a25f9319",
     "grade": false,
     "grade_id": "cell-0482fe88213c9841",
     "locked": true,
     "schema_version": 3,
     "solution": false,
     "task": false
    },
    "tags": []
   },
   "source": [
    "# Information Measure and Entropy\n",
    "## Concept of Information\n",
    "Information of an event (random event) can be measured by its probability:\n",
    "$$\n",
    "\\begin{array}{rcl}\n",
    "I(X) &=& \\log_2\\dfrac{1}{p_X} \\\\\n",
    "     &=& \\log\\dfrac{1}{p_X} \\\\\n",
    "     &=& - \\log {p_X}\n",
    "\\end{array}\n",
    "$$\n",
    "**Intepretation**: \\\n",
    "*$p_X$ is small* $\\Longrightarrow$ *$X$ is hard to guess* $\\Longrightarrow$ *$X$ contains lots of information*"
   ]
  },
  {
   "cell_type": "code",
   "execution_count": 2,
   "id": "db5fa0ac-4291-4ad1-b0de-e689eb8622d7",
   "metadata": {
    "deletable": false,
    "editable": false,
    "nbgrader": {
     "cell_type": "code",
     "checksum": "12d221a668a91f1285cd198bde71525d",
     "grade": false,
     "grade_id": "cell-c875518ad63df98f",
     "locked": true,
     "schema_version": 3,
     "solution": false,
     "task": false
    },
    "tags": []
   },
   "outputs": [],
   "source": [
    "import numpy as np\n",
    "import matplotlib.pyplot as plt\n",
    "import math, traceback"
   ]
  },
  {
   "cell_type": "markdown",
   "id": "666ff841-355f-4764-b942-6aa65e66dbdd",
   "metadata": {
    "deletable": false,
    "editable": false,
    "nbgrader": {
     "cell_type": "markdown",
     "checksum": "fc55c235259dcfa8bcfbb34541eab0a7",
     "grade": false,
     "grade_id": "cell-c97d7d004841e0c9",
     "locked": true,
     "schema_version": 3,
     "solution": false,
     "task": false
    },
    "tags": []
   },
   "source": [
    "### Example 1: Unit of *Information content*\n",
    "Toss a fair coin ($p = 0.5$), \"head\" comes out. What how much information for that? \n",
    "$$\n",
    "I(\"Head\") = - \\log 0.5 = 1 bit\n",
    "$$\n",
    "\n",
    "### Example 2: Information content if we toss $N$ coins\n",
    "It is important to identify an outcome!! \\\n",
    "Assume that $N = 3$. What is information content of $\"HHH\"$ ?\n",
    "$$\n",
    "I(\"HHH\") = 3 bit\n",
    "$$"
   ]
  },
  {
   "cell_type": "markdown",
   "id": "f75f787b-820c-489e-8bdb-bc97dc104520",
   "metadata": {
    "deletable": false,
    "editable": false,
    "nbgrader": {
     "cell_type": "markdown",
     "checksum": "09cb840f39fa300196780b07fc8b72ed",
     "grade": false,
     "grade_id": "cell-7d4f5d39ccea5a8f",
     "locked": true,
     "schema_version": 3,
     "solution": false,
     "task": false
    },
    "tags": []
   },
   "source": [
    "### MISSION: Information content as a function of $p_X$"
   ]
  },
  {
   "cell_type": "code",
   "execution_count": 25,
   "id": "3951078a-0a22-4652-aab1-9cd8acc986b3",
   "metadata": {
    "deletable": false,
    "nbgrader": {
     "cell_type": "code",
     "checksum": "a7800b4a41a95181190579ab42169ed3",
     "grade": false,
     "grade_id": "cell-8ca7034c47dc37c5",
     "locked": false,
     "schema_version": 3,
     "solution": true,
     "task": false
    },
    "tags": []
   },
   "outputs": [],
   "source": [
    "# Complete this function to calculate information content\n",
    "def informationContent(p):\n",
    "    ''' p is array | nparray, each is a probability.\n",
    "    Return an array of information content for each element in p\n",
    "    '''\n",
    "# YOUR CODE HERE\n",
    "    I=[]\n",
    "    for x in p:\n",
    "        i=math.log(1/x,2)\n",
    "        I.append(i)\n",
    "    return I\n",
    "    raise NotImplementedError()"
   ]
  },
  {
   "cell_type": "code",
   "execution_count": 27,
   "id": "f4847087-9154-4602-9b0b-cdf9afcb19da",
   "metadata": {
    "deletable": false,
    "editable": false,
    "nbgrader": {
     "cell_type": "code",
     "checksum": "56003bee13602db7dea1c517867b305c",
     "grade": true,
     "grade_id": "cell-0d5a5c4d99d996d6",
     "locked": true,
     "points": 1,
     "schema_version": 3,
     "solution": false,
     "task": false
    },
    "tags": []
   },
   "outputs": [],
   "source": [
    "# Testing cell\n",
    "p = np.arange(0.001, 1, 0.001)"
   ]
  },
  {
   "cell_type": "markdown",
   "id": "33128962-f338-42a7-8695-8060825059c2",
   "metadata": {
    "deletable": false,
    "editable": false,
    "nbgrader": {
     "cell_type": "markdown",
     "checksum": "bd2ab5c1f1d2f5e4d4e15874c8e338ce",
     "grade": false,
     "grade_id": "cell-de7c2ddc94df89ed",
     "locked": true,
     "schema_version": 3,
     "solution": false,
     "task": false
    },
    "tags": []
   },
   "source": [
    "Now we plot Information content as function of probability"
   ]
  },
  {
   "cell_type": "code",
   "execution_count": 28,
   "id": "0ad6b7b5-2de4-4eee-96c3-335ca47f33b4",
   "metadata": {
    "deletable": false,
    "editable": false,
    "nbgrader": {
     "cell_type": "code",
     "checksum": "c32ec01a2ad399192dd167694cb4ac09",
     "grade": false,
     "grade_id": "cell-62ad5841572b01cc",
     "locked": true,
     "schema_version": 3,
     "solution": false,
     "task": false
    },
    "tags": []
   },
   "outputs": [
    {
     "data": {
      "image/png": "[encoded data removed]",
      "text/plain": [
       "<Figure size 432x288 with 1 Axes>"
      ]
     },
     "metadata": {
      "needs_background": "light"
     },
     "output_type": "display_data"
    }
   ],
   "source": [
    "# plt.figure(figsize=(15, 10))\n",
    "plt.plot(p, informationContent(p))\n",
    "plt.ylabel(r\"$I(X)$\", fontsize=14)\n",
    "plt.xlabel(r\"$p_X$\", fontsize=14)\n",
    "plt.show()"
   ]
  },
  {
   "cell_type": "markdown",
   "id": "6a9360be-7db1-493f-bb31-5bd3a0aa5d70",
   "metadata": {
    "deletable": false,
    "editable": false,
    "nbgrader": {
     "cell_type": "markdown",
     "checksum": "bd524cc5edc5cd9a312a5df9f25e5df3",
     "grade": false,
     "grade_id": "cell-19065cc14bf72bdb",
     "locked": true,
     "schema_version": 3,
     "solution": false,
     "task": false
    },
    "tags": [],
    "toc-hr-collapsed": true
   },
   "source": [
    "## Entropy:\n",
    "Entropy is <u>Average Information Content</u>. Entropy assocates with an _information source_ \\\n",
    "Given an information source X: \n",
    "$$\n",
    "X = \\left \\{ x_i | i = 0 .. N \\right \\} \n",
    "$$\n",
    "and\n",
    "$$\n",
    "P(X = x_i) = p_i\n",
    "$$\n",
    "\n",
    "Entropy of $X$ is given by:\n",
    "$$\n",
    "\\begin{array}{rcl}\n",
    "H(X) &=& E[I(X)] \\\\\n",
    "     &=& - \\sum_{i=0}^N {p_i \\log {p_i}}\n",
    "\\end{array}\n",
    "$$"
   ]
  },
  {
   "cell_type": "markdown",
   "id": "407d63de-2164-4537-8d39-07a1de7181c6",
   "metadata": {
    "deletable": false,
    "editable": false,
    "nbgrader": {
     "cell_type": "markdown",
     "checksum": "e5fdf5c1b51f48399a0b58efc3f66113",
     "grade": false,
     "grade_id": "cell-4959b2832da06289",
     "locked": true,
     "schema_version": 3,
     "solution": false,
     "task": false
    },
    "tags": []
   },
   "source": [
    "### Example 3: 1-bit information source\n",
    "The information source is : Tossing a coin with probability $p$ and observe \"head or tail\" outcome\n",
    "\n",
    "$$\n",
    "H_{1bit} =  -p \\log p - (1 - p) \\log (1 - p)\n",
    "$$\n",
    "\n",
    "Now, let implement entropy calculation function and plot entropy (of 1-bit source) as a function of $p$"
   ]
  },
  {
   "cell_type": "code",
   "execution_count": 36,
   "id": "dea4f08b-0a77-4d5a-ad2b-8fae661be97e",
   "metadata": {
    "deletable": false,
    "nbgrader": {
     "cell_type": "code",
     "checksum": "66c00eb7d98a6f3c009c7e5574fd881c",
     "grade": false,
     "grade_id": "cell-ed11c9703bde40d3",
     "locked": false,
     "schema_version": 3,
     "solution": true,
     "task": false
    },
    "tags": []
   },
   "outputs": [],
   "source": [
    "# COMPLETE THE FOLLOWING FUNCTION \n",
    "def entropy_1bit(p):\n",
    "    '''p is a nparray.\n",
    "    return a nparray of entropy for each item in p\n",
    "    '''\n",
    "    # YOUR CODE HERE\n",
    "    I=[]\n",
    "    for i in p:\n",
    "        if(i!=0):\n",
    "            I.append(-i*math.log(i,2)-(1-i)*math.log(1-i,2))\n",
    "        else:\n",
    "            return None\n",
    "    return I\n",
    "    raise NotImplementedError()"
   ]
  },
  {
   "cell_type": "code",
   "execution_count": 40,
   "id": "e1ee2950-cee0-4c7b-8f6a-1e49f50f62df",
   "metadata": {
    "deletable": false,
    "editable": false,
    "nbgrader": {
     "cell_type": "code",
     "checksum": "45d72511fcbbf63e310b65916e144b71",
     "grade": true,
     "grade_id": "cell-9c4cf3c45bf6627a",
     "locked": true,
     "points": 1,
     "schema_version": 3,
     "solution": false,
     "task": false
    },
    "tags": []
   },
   "outputs": [],
   "source": [
    "# Testing cell\n",
    "assert entropy_1bit([0, 0.1, 0.2]) is None "
   ]
  },
  {
   "cell_type": "code",
   "execution_count": 33,
   "id": "d51393da-e743-4a00-b1f4-629eac8a994f",
   "metadata": {
    "deletable": false,
    "editable": false,
    "nbgrader": {
     "cell_type": "code",
     "checksum": "0024e6d3e127e22909f5c1968e5e64b4",
     "grade": true,
     "grade_id": "cell-979ee920e48123a6",
     "locked": true,
     "points": 1,
     "schema_version": 3,
     "solution": false,
     "task": false
    },
    "tags": []
   },
   "outputs": [],
   "source": [
    "# Testing cell\n",
    "assert entropy_1bit(np.asarray([0.5]))[0] == 1.0 "
   ]
  },
  {
   "cell_type": "code",
   "execution_count": 34,
   "id": "3ead7818-a255-456c-920b-4cdedad0cc54",
   "metadata": {
    "deletable": false,
    "editable": false,
    "nbgrader": {
     "cell_type": "code",
     "checksum": "ce07c80feb81b1c5e2b7f2eb65699a4b",
     "grade": false,
     "grade_id": "cell-027c6a481a0490bd",
     "locked": true,
     "schema_version": 3,
     "solution": false,
     "task": false
    },
    "tags": []
   },
   "outputs": [
    {
     "data": {
      "image/png": "[encoded data removed]",
      "text/plain": [
       "<Figure size 432x288 with 1 Axes>"
      ]
     },
     "metadata": {
      "needs_background": "light"
     },
     "output_type": "display_data"
    }
   ],
   "source": [
    "p = np.arange(0.01, 1, 0.01)\n",
    "plt.plot(p, entropy_1bit(p))\n",
    "plt.xlabel(\"$p$\")\n",
    "plt.ylabel(\"$H$ (bit)\")\n",
    "plt.show()"
   ]
  },
  {
   "cell_type": "markdown",
   "id": "35ab5b8f-1263-48d9-8b7c-d87aab83df69",
   "metadata": {
    "deletable": false,
    "editable": false,
    "nbgrader": {
     "cell_type": "markdown",
     "checksum": "8c3f1dfbdb91ec0f5f2f00623d5eb8db",
     "grade": false,
     "grade_id": "cell-e30193b2bfffd20b",
     "locked": true,
     "schema_version": 3,
     "solution": false,
     "task": false
    },
    "tags": []
   },
   "source": [
    "We can easily realize that H is maximized if $p = 1 - p$ or $p = 0.5$"
   ]
  },
  {
   "cell_type": "markdown",
   "id": "93756159-4cf5-4298-a998-42c8c0ea34d8",
   "metadata": {
    "deletable": false,
    "editable": false,
    "nbgrader": {
     "cell_type": "markdown",
     "checksum": "827c35958d533c4ae952d0ceb0cc37c8",
     "grade": false,
     "grade_id": "cell-0607a0a4f09d69cd",
     "locked": true,
     "points": 4,
     "schema_version": 3,
     "solution": false,
     "task": true
    },
    "tags": []
   },
   "source": [
    "### MISSION : \n",
    "Insert cells AFTER this cell to visualize $H$ of two bit information source.\n",
    "2-bit information source : tossing two bias coins with probability $p_1$ and $p_2$"
   ]
  },
  {
   "cell_type": "code",
   "execution_count": 44,
   "id": "a8053a34-7781-4c04-b780-45e898f9a57d",
   "metadata": {},
   "outputs": [
    {
     "data": {
      "image/png": "[encoded data removed]",
      "text/plain": [
       "<Figure size 432x288 with 1 Axes>"
      ]
     },
     "metadata": {
      "needs_background": "light"
     },
     "output_type": "display_data"
    }
   ],
   "source": [
    "p1 = np.arange(0.01, 1, 0.01)\n",
    "p2 = np.arange(0.01, 1, 0.01)\n",
    "H1 = entropy_1bit(p1)\n",
    "H2 = entropy_1bit(p2)\n",
    "H12 = [(H1[i]+H2[i]) for i in range(len(p1))]\n",
    "plt.plot(p1, H12)\n",
    "plt.ylabel(\"$H$ (bit)\")\n",
    "plt.show()"
   ]
  },
  {
   "cell_type": "markdown",
   "id": "f17314ae-ab97-4681-9c01-8ed89c1664c9",
   "metadata": {
    "deletable": false,
    "editable": false,
    "nbgrader": {
     "cell_type": "markdown",
     "checksum": "9d24323d18d374e9b77d35ee6fb14681",
     "grade": false,
     "grade_id": "cell-85e22888987c744e",
     "locked": true,
     "schema_version": 3,
     "solution": false,
     "task": false
    },
    "tags": []
   },
   "source": [
    "### Example 4: Binomial distribution source\n",
    "Toss N coins and observe the number of heads\n",
    "\n",
    "$$\n",
    "\\begin{array}{rcl}\n",
    "    H_{bin} &=& E_{k=0}^{N}\\left[Pr(\\text{k heads out of N tosses}) \\log Pr(\\text{k heads out of N tosses})\\right]\n",
    "    Pr(\\text{k heads out of N tosses}) &=& \\left( \\begin{array}{c}\n",
    "            N \\\\\n",
    "            k\n",
    "        \\end{array} \\right) p^k (1 - p)^{N-k} \\\\\n",
    "        &=& \\dfrac{N!}{k!(N -k)!} p^k (1 - p)^{N-k} \\\\\n",
    "    H_{bin} &=& - \\sum_{k=0}^N \\dfrac{N!}{k!(N -k)!} p^k (1 - p)^{N-k} \\log{\\dfrac{N!}{k!(N -k)!} p^k (1 - p)^{N-k}}\n",
    "\\end{array}\n",
    "$$"
   ]
  },
  {
   "cell_type": "markdown",
   "id": "3388a653-f3f3-4638-bc12-fd717856bb78",
   "metadata": {
    "deletable": false,
    "editable": false,
    "nbgrader": {
     "cell_type": "markdown",
     "checksum": "9d0d1e410f1d6d02009c7ff7beaabd8f",
     "grade": false,
     "grade_id": "cell-0f1f87271c62f4e9",
     "locked": true,
     "schema_version": 3,
     "solution": false,
     "task": false
    },
    "tags": []
   },
   "source": [
    "### MISSION: Implement Entropy calculation for binomial information source\n",
    "Insert cells after this cell to complete this task. You can use library function available in `numpy` and `scipy`"
   ]
  },
  {
   "cell_type": "code",
   "execution_count": 49,
   "id": "54996e9b-42fb-43b9-adfc-c6d795c643e8",
   "metadata": {
    "deletable": false,
    "nbgrader": {
     "cell_type": "code",
     "checksum": "a594ec3bf48ec382c492263a165e593c",
     "grade": false,
     "grade_id": "cell-c4bafa29e0d2ea36",
     "locked": false,
     "schema_version": 3,
     "solution": true,
     "task": false
    },
    "tags": []
   },
   "outputs": [],
   "source": [
    "def binomial(k, N):\n",
    "    '''k, N are scalars\n",
    "    Return binomial coeficient\n",
    "    '''\n",
    "    # YOUR CODE HERE\n",
    "    co_e=math.factorial(N)/(math.factorial(k)*math.factorial(N-k))\n",
    "    return co_e\n",
    "    raise NotImplementedError()\n",
    "def prob_binomial(k, N, p):\n",
    "    '''scalar version\n",
    "    p: scalar value for prob or nparray of prob\n",
    "    '''\n",
    "    return binomial(k, N) * (p**k) * ((1-p)**(N-k))\n",
    "\n",
    "def entropy_binomial(N, p):\n",
    "    # YOUR CODE HERE\n",
    "    H= -p*math.log(p,2)-(1-p)*math.log(1-p,2)\n",
    "    return N*H\n",
    "    raise NotImplementedError()\n",
    "\n",
    "p = 0.5\n",
    "N = 10"
   ]
  },
  {
   "cell_type": "code",
   "execution_count": 50,
   "id": "71b53169-49a6-41dc-b12e-6d7c1cef254d",
   "metadata": {
    "deletable": false,
    "editable": false,
    "nbgrader": {
     "cell_type": "code",
     "checksum": "b600a969c528874baf4684039f3ffbe7",
     "grade": true,
     "grade_id": "cell-12dfb5334f219419",
     "locked": true,
     "points": 1,
     "schema_version": 3,
     "solution": false,
     "task": false
    },
    "tags": []
   },
   "outputs": [],
   "source": [
    "# Test if prob sum to 1\n",
    "sum = 0\n",
    "for k in range(0, N+1):\n",
    "    sum = sum + prob_binomial(k, N, p)\n",
    "\n",
    "assert sum == 1.0"
   ]
  },
  {
   "cell_type": "code",
   "execution_count": 51,
   "id": "7b0615ba-ae1d-453c-8f8d-4fa6edb4566c",
   "metadata": {
    "deletable": false,
    "editable": false,
    "nbgrader": {
     "cell_type": "code",
     "checksum": "1297d9bf5a3c69f3673f39357d6e5628",
     "grade": true,
     "grade_id": "cell-da894a1608c12df5",
     "locked": true,
     "points": 2,
     "schema_version": 3,
     "solution": false,
     "task": false
    },
    "tags": []
   },
   "outputs": [],
   "source": [
    "# TESTING CELL\n",
    "assert entropy_binomial(1, 0.5) == 1"
   ]
  },
  {
   "cell_type": "markdown",
   "id": "3d8e954f-fbfc-4ff3-a331-ab694e0b0982",
   "metadata": {
    "deletable": false,
    "editable": false,
    "nbgrader": {
     "cell_type": "markdown",
     "checksum": "a5932be59eaeecc99599a46f9f3a2b0d",
     "grade": false,
     "grade_id": "cell-feaee347541006a9",
     "locked": true,
     "points": 1,
     "schema_version": 3,
     "solution": false,
     "task": true
    },
    "tags": []
   },
   "source": [
    "Now, plot $H_{bin}$ as function of $N$ ($p = 0.5)$"
   ]
  },
  {
   "cell_type": "code",
   "execution_count": 54,
   "id": "c94a5ace-33f4-4964-9ea5-b234502caee3",
   "metadata": {
    "deletable": false,
    "nbgrader": {
     "cell_type": "code",
     "checksum": "0970796d8244e0b68b656c7ef8738b61",
     "grade": false,
     "grade_id": "cell-5d11d6309b418e5f",
     "locked": false,
     "schema_version": 3,
     "solution": true,
     "task": false
    },
    "tags": []
   },
   "outputs": [
    {
     "data": {
      "image/png": "[encoded data removed]",
      "text/plain": [
       "<Figure size 432x288 with 1 Axes>"
      ]
     },
     "metadata": {
      "needs_background": "light"
     },
     "output_type": "display_data"
    }
   ],
   "source": [
    "# Complete this cell to plot H_bin agains N\n",
    "n = np.arange(1, 200, 1)\n",
    "def plot_Hbin_vs_n(n):\n",
    "    # YOUR CODE HERE\n",
    "    H = np.asarray([ entropy_binomial(k, 0.5) for k in n ])\n",
    "    plt.plot(n, H)\n",
    "    plt.xlabel(\"$n$\")\n",
    "    plt.ylabel(\"$H_bin$\")\n",
    "    plt.show()\n",
    "    \n",
    "\n",
    "plot_Hbin_vs_n(n)"
   ]
  },
  {
   "cell_type": "markdown",
   "id": "50123ad6-048b-4746-ba5a-91106921ecbb",
   "metadata": {
    "deletable": false,
    "editable": false,
    "nbgrader": {
     "cell_type": "markdown",
     "checksum": "da93a7308d0acc038f9f90f9cb1c5edc",
     "grade": false,
     "grade_id": "cell-e49cb8951372502b",
     "locked": true,
     "points": 0,
     "schema_version": 3,
     "solution": false,
     "task": true
    },
    "tags": []
   },
   "source": [
    "Now, let plot $H_{bin}$ against $p$"
   ]
  },
  {
   "cell_type": "code",
   "execution_count": 56,
   "id": "573b4c88-cb2c-4169-a1fa-c607361fa620",
   "metadata": {
    "deletable": false,
    "nbgrader": {
     "cell_type": "code",
     "checksum": "71c355c363ffe7917b0d0dff12bd5b20",
     "grade": false,
     "grade_id": "cell-8ccf9ab36be6a77c",
     "locked": false,
     "schema_version": 3,
     "solution": true,
     "task": false
    },
    "tags": []
   },
   "outputs": [
    {
     "data": {
      "image/png": "[encoded data removed]",
      "text/plain": [
       "<Figure size 432x288 with 1 Axes>"
      ]
     },
     "metadata": {
      "needs_background": "light"
     },
     "output_type": "display_data"
    }
   ],
   "source": [
    "def plot_Hbin_vs_p(p):\n",
    "    # YOUR CODE HERE\n",
    "    H = np.asarray([ entropy_binomial(100, k) for k in p ])\n",
    "    plt.plot(p, H)\n",
    "    plt.xlabel(\"$p$\")\n",
    "    plt.ylabel(\"$H_bin$\")\n",
    "    plt.show()\n",
    "    \n",
    "p = np.arange(0.01, 1, 0.01)\n",
    "plot_Hbin_vs_p(p)"
   ]
  },
  {
   "cell_type": "markdown",
   "id": "91baaaa0-0707-491e-bafe-1f6d66e74a2d",
   "metadata": {
    "deletable": false,
    "editable": false,
    "nbgrader": {
     "cell_type": "markdown",
     "checksum": "71ec061b7b16415967cde1c919562f98",
     "grade": false,
     "grade_id": "cell-25d6bb45c5bf952a",
     "locked": true,
     "schema_version": 3,
     "solution": false,
     "task": false
    },
    "tags": []
   },
   "source": [
    "### Example 5: Geometric distribution information source\n",
    "Repeatitively tossing a coin until we get \"head\". Observe the number of tosses as output.\n",
    "\n",
    "Probability that there are $k$ tosses:\n",
    "$$\n",
    "Pr\\{ k \\text{ tosses} \\} = p_k = (1 - p)^{k-1} p \\hspace{1cm} \\text{for } k = 1 .. \\infty\n",
    "$$\n",
    "\n",
    "Entropy of a geometric information source will be:\n",
    "$$\n",
    "\\begin{array}{rcl}\n",
    "H_{Geom} &=& - \\sum_{k=1}^\\infty (1-p)^{k-1}p \\log \\left ( (1-p)^{k-1}p \\right) \\\\\n",
    "         &=& - \\sum_{k=1}^\\infty (1-p)^{k-1}p \\left ((k -1) \\log (1-p) + \\log p \\right)\n",
    "\\end{array}\n",
    "$$\n",
    "\n",
    "Let $p = \\dfrac{1}{2}$\n",
    "\\begin{array}{rcl}\n",
    "H_{Geom} &=& \\sum_{k=1}^\\infty \\dfrac{1}{2^k} \\log \\left ( 2^k \\right) \\\\\n",
    "         &=& \\sum_{k=1}^\\infty \\dfrac{k}{2^k}\n",
    "\\end{array}"
   ]
  },
  {
   "cell_type": "markdown",
   "id": "cd7ebee5-f085-413d-8ca1-68e1f0670a51",
   "metadata": {
    "deletable": false,
    "editable": false,
    "nbgrader": {
     "cell_type": "markdown",
     "checksum": "961bdd79e64281533eedc06ff2d371ca",
     "grade": false,
     "grade_id": "cell-1bc5d5bda6fc5dd0",
     "locked": true,
     "points": 0,
     "schema_version": 3,
     "solution": false,
     "task": true
    },
    "tags": []
   },
   "source": [
    "### MISSION:\n",
    "Derive close form formula for $H_{Geom}$ for the case $p = \\frac{1}{2}$ \\\n",
    "You can insert new cell AFTER this cell to make it"
   ]
  },
  {
   "cell_type": "markdown",
   "id": "16d6bb05-eb56-436d-b74a-ca4ab3e9bfb2",
   "metadata": {
    "deletable": false,
    "editable": false,
    "nbgrader": {
     "cell_type": "markdown",
     "checksum": "478b2a2412b0456b92960c4193526c98",
     "grade": false,
     "grade_id": "cell-55745f7d4e5eadc5",
     "locked": true,
     "schema_version": 3,
     "solution": false,
     "task": false
    },
    "tags": []
   },
   "source": [
    "### MISSION: \n",
    "Now, let write python code to calculate $H_{Geom}$"
   ]
  },
  {
   "cell_type": "code",
   "execution_count": 70,
   "id": "ed0b1aef-3d02-410e-a14d-5da18af4ff6c",
   "metadata": {
    "deletable": false,
    "nbgrader": {
     "cell_type": "code",
     "checksum": "eb52ceb1550cde6ed819ee250a14c994",
     "grade": false,
     "grade_id": "cell-cdc162e049a450ad",
     "locked": false,
     "schema_version": 3,
     "solution": true,
     "task": false
    },
    "tags": []
   },
   "outputs": [],
   "source": [
    "# Complete the following functions\n",
    "def geom_prob(k, p = 0.5): \n",
    "    # YOUR CODE HERE\n",
    "    return p**k\n",
    "    raise NotImplementedError()\n",
    "\n",
    "def entropy_geom(p = 0.5, N = 1000):\n",
    "    ''' p is scalar (the probability of a coin)'''\n",
    "    # YOUR CODE HERE\n",
    "    return N*geom_prob(N,p)\n",
    "    raise NotImplementedError()"
   ]
  },
  {
   "cell_type": "code",
   "execution_count": 71,
   "id": "557e73b9-c441-4149-9fa5-c907cb0f9d81",
   "metadata": {
    "deletable": false,
    "editable": false,
    "nbgrader": {
     "cell_type": "code",
     "checksum": "532d78ac3ac213c708d77d31a91ac284",
     "grade": true,
     "grade_id": "cell-480dd92436bc02dd",
     "locked": true,
     "points": 1,
     "schema_version": 3,
     "solution": false,
     "task": false
    },
    "tags": []
   },
   "outputs": [],
   "source": [
    "# Testing cell\n",
    "# Test if probabilities sum to 1\n",
    "assert (np.sum(geom_prob(np.arange(1, 100, 1), 0.5)) - 1) < 0.0001\n",
    "\n",
    "# Testing entropy (Hidden)"
   ]
  },
  {
   "cell_type": "markdown",
   "id": "38ff5e43-d3f4-4e7e-95f3-7d064f299702",
   "metadata": {},
   "source": [
    "Now, let's plot $H_{Geom}$ against $p$"
   ]
  },
  {
   "cell_type": "code",
   "execution_count": 72,
   "id": "a9101fef-80e3-4c3d-87d1-8c4a0688d02a",
   "metadata": {},
   "outputs": [
    {
     "name": "stdout",
     "output_type": "stream",
     "text": [
      "5.153775207320094e-151\n",
      "90.47921471137089\n"
     ]
    },
    {
     "data": {
      "image/png": "[encoded data removed]",
      "text/plain": [
       "<Figure size 432x288 with 1 Axes>"
      ]
     },
     "metadata": {
      "needs_background": "light"
     },
     "output_type": "display_data"
    }
   ],
   "source": [
    "p = np.arange(0.001, 1, 0.001)\n",
    "print(entropy_geom(0.03, 100))\n",
    "H = np.asarray([ entropy_geom(v, 100) for v in p ])\n",
    "print(H.max())\n",
    "plt.plot(p, H)\n",
    "plt.show()"
   ]
  },
  {
   "cell_type": "code",
   "execution_count": null,
   "id": "092b26a4-7e99-4665-8e61-eefab6b09cee",
   "metadata": {},
   "outputs": [],
   "source": []
  }
 ],
 "metadata": {
  "kernelspec": {
   "display_name": "Python 3 (ipykernel)",
   "language": "python",
   "name": "python3"
  },
  "language_info": {
   "codemirror_mode": {
    "name": "ipython",
    "version": 3
   },
   "file_extension": ".py",
   "mimetype": "text/x-python",
   "name": "python",
   "nbconvert_exporter": "python",
   "pygments_lexer": "ipython3",
   "version": "3.9.7"
  }
 },
 "nbformat": 4,
 "nbformat_minor": 5
}

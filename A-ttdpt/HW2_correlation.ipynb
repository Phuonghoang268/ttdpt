{
 "cells": [
  {
   "cell_type": "markdown",
   "id": "d1428149-27fa-464e-af5c-90db6a252c59",
   "metadata": {
    "deletable": false,
    "editable": false,
    "nbgrader": {
     "cell_type": "markdown",
     "checksum": "3fc130888d65cf2d5a6da575b5f34f95",
     "grade": false,
     "grade_id": "cell-521d1156863afe21",
     "locked": true,
     "schema_version": 3,
     "solution": false,
     "task": false
    },
    "tags": []
   },
   "source": [
    "# Definition of **CORRELATION COEFFICIENT**\n",
    "Given $X$ and $Y$ are two *random variables*, correlation coeficient $\\rho_{X,Y}$ is given by:\n",
    "\n",
    "$$\n",
    "\\rho_{X, Y} = \\dfrac{cov(X,Y)}{\\sigma_X \\sigma_Y}\n",
    "$$\n",
    "\n",
    "Where: \n",
    "$$\n",
    "cov(X, Y) = E[(X - \\mu_X)(Y - \\mu_Y)]\n",
    "$$\n",
    "\n",
    "$$\n",
    "\\begin{array}{rcl}\n",
    "    \\sigma_X &=& \\sqrt{E \\left( (X - \\mu_X)^2 \\right)} \\\\\n",
    "    \\sigma_Y &=& \\sqrt{E \\left( (Y - \\mu_Y)^2 \\right)}\n",
    "\\end{array}\n",
    "$$"
   ]
  },
  {
   "cell_type": "code",
   "execution_count": 1,
   "id": "60be5225-bd6b-4c1e-a23a-90b45bac8e3f",
   "metadata": {
    "deletable": false,
    "editable": false,
    "nbgrader": {
     "cell_type": "code",
     "checksum": "79509a109e2837ff34b87e4d46a464a8",
     "grade": true,
     "grade_id": "cell-0631aee9cc46f978",
     "locked": true,
     "points": 1,
     "schema_version": 3,
     "solution": false,
     "task": false
    },
    "tags": []
   },
   "outputs": [],
   "source": [
    "# Import necessary modules\n",
    "import numpy as np\n",
    "import numpy.random as npr\n",
    "import math\n",
    "import numbers\n",
    "import traceback\n",
    "\n",
    "assert True # Point for submission"
   ]
  },
  {
   "cell_type": "markdown",
   "id": "54eb4911-a88f-41d2-bdd0-c47b52785343",
   "metadata": {
    "deletable": false,
    "editable": false,
    "nbgrader": {
     "cell_type": "markdown",
     "checksum": "b75a78bd3646c7ce34dbbced87028157",
     "grade": false,
     "grade_id": "cell-350b87b6a06a8b9c",
     "locked": true,
     "schema_version": 3,
     "solution": false,
     "task": false
    },
    "tags": []
   },
   "source": [
    "## _Mission 1_:\n",
    "    Completing the following cell to implement a function to calculate mean from an input vector x\n",
    "**NOTES**:\n",
    "- You are not allowed to use `numpy.mean()` function\n",
    "- You are expected to use for loop and basic operation of Python to complete it\n",
    "- Return None if you cannot calculate mean\n",
    "- You should ignore NaN (Not a number) values from the input array"
   ]
  },
  {
   "cell_type": "code",
   "execution_count": 2,
   "id": "94fad2c1-89db-46f9-924a-439fe0976e7a",
   "metadata": {},
   "outputs": [],
   "source": [
    "#check number or not\n",
    "def is_number(s):\n",
    "    try:\n",
    "        float(s)\n",
    "        return True\n",
    "    except ValueError:\n",
    "        return False\n",
    "    \n",
    "def checkVector(x):\n",
    "    V=[]\n",
    "    for i in x: \n",
    "        #cannot caculate\n",
    "        if is_number(i) == False:\n",
    "            return []\n",
    "        #ignore NaN\n",
    "        else:\n",
    "            if math.isnan(float(i)):\n",
    "                continue\n",
    "            else:\n",
    "                V.append(float(i))\n",
    "    return V\n",
    "            \n"
   ]
  },
  {
   "cell_type": "code",
   "execution_count": 3,
   "id": "1aa74986-f6aa-4fb6-89e9-825cf7dd5a86",
   "metadata": {
    "deletable": false,
    "nbgrader": {
     "cell_type": "code",
     "checksum": "953ab867235ce33cc9b9917240b67705",
     "grade": false,
     "grade_id": "cell-e409eb67d506f700",
     "locked": false,
     "schema_version": 3,
     "solution": true,
     "task": false
    },
    "tags": []
   },
   "outputs": [],
   "source": [
    "import numbers\n",
    "def mean(x):\n",
    "    # YOUR CODE HERE\n",
    "    V=checkVector(x)\n",
    "    if len(V)  == 0:\n",
    "        return None\n",
    "    else:\n",
    "        return sum(i for i in V)/len(V)\n",
    "    raise NotImplementedError()"
   ]
  },
  {
   "cell_type": "code",
   "execution_count": null,
   "id": "1a58717f-f7c9-4cd9-86af-d5d8cfd2c5df",
   "metadata": {
    "deletable": false,
    "editable": false,
    "nbgrader": {
     "cell_type": "code",
     "checksum": "c26b4d1167ee029ff168f8f3210b5f27",
     "grade": true,
     "grade_id": "cell-6266de7ab70af2cb",
     "locked": true,
     "points": 1,
     "schema_version": 3,
     "solution": false,
     "task": false
    },
    "tags": []
   },
   "outputs": [],
   "source": []
  },
  {
   "cell_type": "code",
   "execution_count": null,
   "id": "93938f07-d42a-44c8-bdcd-d884fba204a8",
   "metadata": {
    "deletable": false,
    "editable": false,
    "nbgrader": {
     "cell_type": "code",
     "checksum": "9ee909c95e27200869181ce9b7cebea8",
     "grade": true,
     "grade_id": "cell-de6f7f39bea0c788",
     "locked": true,
     "points": 1,
     "schema_version": 3,
     "solution": false,
     "task": false
    },
    "tags": []
   },
   "outputs": [],
   "source": []
  },
  {
   "cell_type": "code",
   "execution_count": 4,
   "id": "5f48f240-46ce-468a-9528-d05d940bd23a",
   "metadata": {
    "deletable": false,
    "editable": false,
    "nbgrader": {
     "cell_type": "code",
     "checksum": "fecf3aeaa8ca9c4bcc012b5e48f17d6b",
     "grade": true,
     "grade_id": "cell-1d0fc5445cd53251",
     "locked": true,
     "points": 1,
     "schema_version": 3,
     "solution": false,
     "task": false
    },
    "tags": []
   },
   "outputs": [],
   "source": [
    "assert mean(['a', '1.2', ]) is None"
   ]
  },
  {
   "cell_type": "markdown",
   "id": "66c7d670-2cec-4038-884e-ad952cbed456",
   "metadata": {
    "deletable": false,
    "editable": false,
    "nbgrader": {
     "cell_type": "markdown",
     "checksum": "f89ac32b6dcc8cc91d96a8dfc9ff37bd",
     "grade": false,
     "grade_id": "cell-2aac57e5463cb4a9",
     "locked": true,
     "schema_version": 3,
     "solution": false,
     "task": false
    },
    "tags": []
   },
   "source": [
    "## _Mission 2_:\n",
    "    Completing the following cell to implement standard deviation function\n",
    "**NOTES:**\n",
    "- You are not allowed to use `numpy.std()` function\n",
    "- You can call mean function that you have in _Mission 1_\n",
    "- Return None and ignore NaN (Similar to _Mission 1_)"
   ]
  },
  {
   "cell_type": "code",
   "execution_count": 5,
   "id": "e4f7d4ca-fed3-493e-bf18-83991e08641b",
   "metadata": {
    "deletable": false,
    "nbgrader": {
     "cell_type": "code",
     "checksum": "2c69c3e9bceddaec5ecc621e927b9bf4",
     "grade": false,
     "grade_id": "cell-0c74e0d1eab17742",
     "locked": false,
     "schema_version": 3,
     "solution": true,
     "task": false
    },
    "tags": []
   },
   "outputs": [],
   "source": [
    "def std(x):\n",
    "    # YOUR CODE HERE\n",
    "    if mean(x) is None:\n",
    "        return None\n",
    "    else:\n",
    "        V=checkVector(x)\n",
    "        variance=sum([(i - mean(x))**2 for i in V])/(len(V)-1)\n",
    "        std=math.sqrt(variance)\n",
    "        return std            \n",
    "    raise NotImplementedError()"
   ]
  },
  {
   "cell_type": "code",
   "execution_count": null,
   "id": "4e469038-c2ff-47f7-885c-bd3b78e41608",
   "metadata": {
    "deletable": false,
    "editable": false,
    "nbgrader": {
     "cell_type": "code",
     "checksum": "c30759987ff32e2681d8b1cc83b4e359",
     "grade": true,
     "grade_id": "cell-e239ad27723d9aea",
     "locked": true,
     "points": 1,
     "schema_version": 3,
     "solution": false,
     "task": false
    },
    "tags": []
   },
   "outputs": [],
   "source": []
  },
  {
   "cell_type": "code",
   "execution_count": null,
   "id": "0bd49b6f-93f6-44bb-8fc5-6a4f5ad1f0c2",
   "metadata": {
    "deletable": false,
    "editable": false,
    "nbgrader": {
     "cell_type": "code",
     "checksum": "5a66894601f57962c2e6e95f9d134726",
     "grade": true,
     "grade_id": "cell-51bae83a096d0645",
     "locked": true,
     "points": 1,
     "schema_version": 3,
     "solution": false,
     "task": false
    },
    "tags": []
   },
   "outputs": [],
   "source": []
  },
  {
   "cell_type": "code",
   "execution_count": null,
   "id": "cad9a7c0-b574-44e3-a1aa-21a5cc6e7749",
   "metadata": {
    "deletable": false,
    "editable": false,
    "nbgrader": {
     "cell_type": "code",
     "checksum": "e81fdf3a4ffa78645539206d5da5ca64",
     "grade": true,
     "grade_id": "cell-3eb0d2786a7f34da",
     "locked": true,
     "points": 1,
     "schema_version": 3,
     "solution": false,
     "task": false
    },
    "tags": []
   },
   "outputs": [],
   "source": []
  },
  {
   "cell_type": "code",
   "execution_count": null,
   "id": "a88e4ffc-62ec-480e-8773-525b41a0c0f3",
   "metadata": {
    "deletable": false,
    "editable": false,
    "nbgrader": {
     "cell_type": "code",
     "checksum": "3a4a1d022254a7779320ea9644f13df9",
     "grade": true,
     "grade_id": "cell-0091b8b46e281e86",
     "locked": true,
     "points": 1,
     "schema_version": 3,
     "solution": false,
     "task": false
    },
    "tags": []
   },
   "outputs": [],
   "source": []
  },
  {
   "cell_type": "markdown",
   "id": "d1d9c25b-8848-4c6d-a7ae-e77f8bf995a3",
   "metadata": {
    "deletable": false,
    "editable": false,
    "nbgrader": {
     "cell_type": "markdown",
     "checksum": "e77c795c9e96438f8cb945fffd7b06e5",
     "grade": false,
     "grade_id": "cell-c0078b59b5681f59",
     "locked": true,
     "schema_version": 3,
     "solution": false,
     "task": false
    },
    "tags": []
   },
   "source": [
    "## _Mission 3_\n",
    "    Complete the following cell to implement a function that calculate correlation coefficient\n",
    "**NOTES:**\n",
    "- You can call your `mean()` and `std()` functions\n",
    "- Return None and ignore Nan\n",
    "- You can use `numpy` for array/vector operations (+, -, *, /)\n",
    "- You are not allowed to use `numpy.mean()`, `numpy.std()`"
   ]
  },
  {
   "cell_type": "code",
   "execution_count": 6,
   "id": "a46f7584-9d52-45c1-a581-e948a09efc5c",
   "metadata": {
    "deletable": false,
    "nbgrader": {
     "cell_type": "code",
     "checksum": "bc9836b9a3d6cf1415fdd3a2a63401e1",
     "grade": false,
     "grade_id": "cell-f36ac9ca019a234f",
     "locked": false,
     "schema_version": 3,
     "solution": true,
     "task": false
    },
    "tags": []
   },
   "outputs": [],
   "source": [
    "def corrcoef(x, y):\n",
    "    ''' Return correlation coeficient of x and y.\n",
    "    x, y: are two numpy arrays. Both x and y should have the same size\n",
    "    '''\n",
    "    # YOUR CODE HERE\n",
    "    X=checkVector(x)\n",
    "    Y=checkVector(y)\n",
    "    if mean(x) is None or mean(y) is None:\n",
    "        return None\n",
    "    else:\n",
    "        if len(X)  != len(Y):\n",
    "            return None\n",
    "        else:\n",
    "            meanX = mean(X)\n",
    "            meanY = mean(Y)\n",
    "            subX = [(i-meanX) for i in X]\n",
    "            subY = [(i-meanY) for i in Y]\n",
    "            covXY = sum([(subX[i]*subY[i]) for i in range(len(X)) ])/(len(X)-1)\n",
    "            corXY= covXY/(std(X)*std(Y))\n",
    "    return corXY\n",
    "    raise NotImplementedError()"
   ]
  },
  {
   "cell_type": "code",
   "execution_count": null,
   "id": "10ab0c0b-2ae8-4599-9aa8-6f8b13f53ced",
   "metadata": {
    "deletable": false,
    "editable": false,
    "nbgrader": {
     "cell_type": "code",
     "checksum": "60c4553cb047fdd0299080f23028632d",
     "grade": true,
     "grade_id": "cell-e29648c95f66ec1f",
     "locked": true,
     "points": 1,
     "schema_version": 3,
     "solution": false,
     "task": false
    },
    "tags": []
   },
   "outputs": [],
   "source": []
  },
  {
   "cell_type": "code",
   "execution_count": null,
   "id": "b502c38f-eed1-4a7c-a088-9df6d5cc711f",
   "metadata": {
    "deletable": false,
    "editable": false,
    "nbgrader": {
     "cell_type": "code",
     "checksum": "8a2bd63e9c2080476468e3a364cf6402",
     "grade": true,
     "grade_id": "cell-782d7ebfc2aab18a",
     "locked": true,
     "points": 1,
     "schema_version": 3,
     "solution": false,
     "task": false
    },
    "tags": []
   },
   "outputs": [],
   "source": []
  },
  {
   "cell_type": "code",
   "execution_count": null,
   "id": "1ad4635e-8c7e-47cf-902f-a6ee66950b3e",
   "metadata": {
    "deletable": false,
    "editable": false,
    "nbgrader": {
     "cell_type": "code",
     "checksum": "2909f18c621781cf00404bdc86f21706",
     "grade": true,
     "grade_id": "cell-8fc238178ffa88cc",
     "locked": true,
     "points": 1,
     "schema_version": 3,
     "solution": false,
     "task": false
    },
    "tags": []
   },
   "outputs": [],
   "source": []
  },
  {
   "cell_type": "markdown",
   "id": "534d2af3-983c-4c8c-a908-f329526e0d15",
   "metadata": {
    "deletable": false,
    "editable": false,
    "nbgrader": {
     "cell_type": "markdown",
     "checksum": "d7c9ac5e6a05272b799773abc2546fa9",
     "grade": false,
     "grade_id": "cell-ffef4114825724a4",
     "locked": true,
     "schema_version": 3,
     "solution": false,
     "task": false
    },
    "tags": []
   },
   "source": [
    "# Illustration of correlation between random variables\n",
    "For this mission, you should write a report by adding more cells (markdown and code) to demonstrate correlation between different random variables. You are free to decide what to include in the report as long as it serves the following requirements:\n",
    "- Provide purpose of the report (you can add what you think that is important)\n",
    "- Well structured (you can follow what instructor presented in the class or choose your own way)\n",
    "- Clearly present concept and aspects of correlation"
   ]
  },
  {
   "cell_type": "code",
   "execution_count": 7,
   "id": "1e27d935-3416-4ee6-9437-8749ad37f003",
   "metadata": {},
   "outputs": [
    {
     "name": "stdout",
     "output_type": "stream",
     "text": [
      "0.048394992599377636\n"
     ]
    },
    {
     "data": {
      "image/png": "[encoded data removed]",
      "text/plain": [
       "<Figure size 432x288 with 1 Axes>"
      ]
     },
     "metadata": {
      "needs_background": "light"
     },
     "output_type": "display_data"
    }
   ],
   "source": [
    "import matplotlib.pyplot as plt\n",
    "\n",
    "N=1000\n",
    "x=npr.random(N)\n",
    "y=npr.random(N)\n",
    "\n",
    "print(corrcoef(x,y))\n",
    "plt.plot(x,y,\"go\")\n",
    "plt.xlabel(\"$x$\")\n",
    "plt.xlabel(\"$y$\")\n",
    "plt.show()"
   ]
  },
  {
   "cell_type": "code",
   "execution_count": 8,
   "id": "d8df39b2-1888-4c58-aa06-99d2dc25ecf0",
   "metadata": {},
   "outputs": [
    {
     "name": "stdout",
     "output_type": "stream",
     "text": [
      "0.2093354000503648\n"
     ]
    },
    {
     "data": {
      "image/png": "[encoded data removed]",
      "text/plain": [
       "<Figure size 432x288 with 1 Axes>"
      ]
     },
     "metadata": {
      "needs_background": "light"
     },
     "output_type": "display_data"
    }
   ],
   "source": [
    "N=1000\n",
    "a=npr.randint(100)\n",
    "b=npr.randint(100)\n",
    "x=npr.random(N)\n",
    "y=npr.uniform(a*x-b,a*x+b)\n",
    "print(corrcoef(x,y))\n",
    "plt.plot(x,y,\"go\")\n",
    "plt.xlabel(\"$x$\")\n",
    "plt.xlabel(\"$y$\")\n",
    "plt.show()"
   ]
  },
  {
   "cell_type": "markdown",
   "id": "74f3124c-198b-4d71-aed9-86296613fb94",
   "metadata": {
    "deletable": false,
    "editable": false,
    "nbgrader": {
     "cell_type": "markdown",
     "checksum": "2c35275cfc1464e2e54b7e3a81089de9",
     "grade": false,
     "grade_id": "cell-69bd68f899ea7bc7",
     "locked": true,
     "points": 5,
     "schema_version": 3,
     "solution": false,
     "task": true
    },
    "tags": []
   },
   "source": [
    "**You can add cell before the last cell**"
   ]
  }
 ],
 "metadata": {
  "kernelspec": {
   "display_name": "Python 3 (ipykernel)",
   "language": "python",
   "name": "python3"
  },
  "language_info": {
   "codemirror_mode": {
    "name": "ipython",
    "version": 3
   },
   "file_extension": ".py",
   "mimetype": "text/x-python",
   "name": "python",
   "nbconvert_exporter": "python",
   "pygments_lexer": "ipython3",
   "version": "3.9.7"
  }
 },
 "nbformat": 4,
 "nbformat_minor": 5
}

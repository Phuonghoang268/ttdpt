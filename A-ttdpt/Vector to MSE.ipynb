{
 "cells": [
  {
   "attachments": {
    "image.png": {
     "image/png": "[encoded data removed]"
    }
   },
   "cell_type": "markdown",
   "id": "b13eda3d",
   "metadata": {},
   "source": [
    "![image.png](attachment:image.png)\n"
   ]
  },
  {
   "cell_type": "code",
   "execution_count": 7,
   "id": "76fbb7fe",
   "metadata": {},
   "outputs": [],
   "source": [
    "import numpy as np \n",
    "\n",
    "x=np.array([72,76,77,83,76])\n",
    "y=np.array([74.84, 77.13, 79.41, 79, 73.6])"
   ]
  },
  {
   "cell_type": "code",
   "execution_count": 8,
   "id": "f03d0a9c",
   "metadata": {},
   "outputs": [
    {
     "data": {
      "text/plain": [
       "array([ 8.0656,  1.2769,  5.8081, 16.    ,  5.76  ])"
      ]
     },
     "execution_count": 8,
     "metadata": {},
     "output_type": "execute_result"
    }
   ],
   "source": [
    "sse= (x-y)**2\n",
    "sse"
   ]
  },
  {
   "cell_type": "code",
   "execution_count": 9,
   "id": "6c1d860e",
   "metadata": {},
   "outputs": [
    {
     "data": {
      "text/plain": [
       "7.382120000000003"
      ]
     },
     "execution_count": 9,
     "metadata": {},
     "output_type": "execute_result"
    }
   ],
   "source": [
    "mse=np.mean(sse)\n",
    "mse"
   ]
  },
  {
   "cell_type": "code",
   "execution_count": 10,
   "id": "043325a9",
   "metadata": {},
   "outputs": [
    {
     "data": {
      "text/plain": [
       "7.382120000000003"
      ]
     },
     "execution_count": 10,
     "metadata": {},
     "output_type": "execute_result"
    }
   ],
   "source": [
    "#######C2\n",
    "from sklearn.metrics import mean_squared_error as mse\n",
    "mse(x,y)"
   ]
  },
  {
   "cell_type": "code",
   "execution_count": null,
   "id": "9082cb2d",
   "metadata": {},
   "outputs": [],
   "source": []
  }
 ],
 "metadata": {
  "kernelspec": {
   "display_name": "Python 3 (ipykernel)",
   "language": "python",
   "name": "python3"
  },
  "language_info": {
   "codemirror_mode": {
    "name": "ipython",
    "version": 3
   },
   "file_extension": ".py",
   "mimetype": "text/x-python",
   "name": "python",
   "nbconvert_exporter": "python",
   "pygments_lexer": "ipython3",
   "version": "3.9.13"
  }
 },
 "nbformat": 4,
 "nbformat_minor": 5
}
